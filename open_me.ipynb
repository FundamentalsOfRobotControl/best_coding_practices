{
 "cells": [
  {
   "cell_type": "markdown",
   "metadata": {},
   "source": [
    "# Best Coding Practices for Robotics \n",
    "## (based on anecdotal experience)\n",
    "\n",
    "In this notebook, I will provide some best practices when writing code for robotic control systems. Note these ideas span beyond control and have been applied to vision, machine learning, and multi-robot coordination problems. "
   ]
  },
  {
   "cell_type": "markdown",
   "metadata": {},
   "source": [
    "# Working with Arrays and not implicit vectors (be explicit)\n",
    "One lesson I learned early on was to work with arrays rather than vectors. The distinction may not be clear, but the follow examples should clear everything up for you. The takeaway message is to be as explicit as possible with linear algebra and matrix operations to avoid weird bugs that are due to careless implementation. We will be working with numpy for now and move on later with jax. For now load the library below."
   ]
  },
  {
   "cell_type": "code",
   "execution_count": 2,
   "metadata": {},
   "outputs": [],
   "source": [
    "import numpy as np"
   ]
  },
  {
   "cell_type": "markdown",
   "metadata": {},
   "source": [
    "Consider the following vectors (run the cell to load them in)"
   ]
  },
  {
   "cell_type": "code",
   "execution_count": 7,
   "metadata": {},
   "outputs": [
    {
     "name": "stdout",
     "output_type": "stream",
     "text": [
      "[[0.1]\n",
      " [0.2]\n",
      " [0.3]] (3, 1) \n",
      " [0.1 0.2 0.3] (3,)\n"
     ]
    }
   ],
   "source": [
    "x1 = np.array([\n",
    "    [0.1],\n",
    "    [0.2],\n",
    "    [0.3]\n",
    "])\n",
    "x2 = np.array([\n",
    "    0.1,0.2,0.3\n",
    "])\n",
    "print(\n",
    "    x1,\n",
    "    x1.shape, '\\n',\n",
    "    x2, \n",
    "    x2.shape\n",
    ")"
   ]
  },
  {
   "cell_type": "markdown",
   "metadata": {},
   "source": [
    "Notice that the top looks like a vector with dimension (3,1) and the array below with has dimension (3, ) . No this is not a mistake and no `x2` is not a row vector. It is an *array* which is just a special collection of numbers (list a list) that as less implicit operations than a vector. Take below the transpose and dot product. Here you can see the various ways one can code up a dot product, and accidentally introduce or remove dimensions, compute outer products, and element-wise products. This is a result of implicit functions and treating vector-vector products with dimensions instead of an explicit dot product operator that acts on two arrays that are in a vector space. "
   ]
  },
  {
   "cell_type": "code",
   "execution_count": 30,
   "metadata": {},
   "outputs": [
    {
     "name": "stdout",
     "output_type": "stream",
     "text": [
      "[[0.14]]\n",
      "Throws an error\n",
      "matmul: Input operand 1 has a mismatch in its core dimension 0, with gufunc signature (n?,k),(k,m?)->(n?,m?) (size 3 is different from 1)\n",
      "x2 @ x2\n",
      "--------------------------\n",
      "0.14\n",
      "--------------------------\n",
      "x2 @ x1\n",
      "--------------------------\n",
      "[0.14]\n",
      "--------------------------\n",
      "x2.T @ x1\n",
      "--------------------------\n",
      "[0.14]\n",
      "--------------------------\n",
      "x1 @ x1.T\n",
      "--------------------------\n",
      "[[0.01 0.02 0.03]\n",
      " [0.02 0.04 0.06]\n",
      " [0.03 0.06 0.09]]\n",
      "--------------------------\n",
      "x1.T @ x2\n",
      "--------------------------\n",
      "[0.14]\n",
      "--------------------------\n",
      "x1 * x2\n",
      "--------------------------\n",
      "[[0.01 0.02 0.03]\n",
      " [0.02 0.04 0.06]\n",
      " [0.03 0.06 0.09]]\n",
      "--------------------------\n",
      "x1 * x1\n",
      "--------------------------\n",
      "[[0.01]\n",
      " [0.04]\n",
      " [0.09]]\n",
      "--------------------------\n",
      "x2 * x2\n",
      "--------------------------\n",
      "[0.01 0.04 0.09]\n",
      "--------------------------\n",
      "dot(x1, x2)\n",
      "--------------------------\n",
      "0.14\n",
      "--------------------------\n",
      "outer(x1, x2)\n",
      "--------------------------\n",
      "[[0.01 0.02 0.03]\n",
      " [0.02 0.04 0.06]\n",
      " [0.03 0.06 0.09]]\n",
      "--------------------------\n",
      "dot(A, x2), A@x2, x2@A\n",
      "--------------------------\n",
      "[0.14 0.32 0.5 ] [0.14 0.32 0.5 ] [0.3  0.36 0.42]\n",
      "--------------------------\n"
     ]
    }
   ],
   "source": [
    "res = x1.T@x1\n",
    "print(res)\n",
    "\n",
    "try: \n",
    "    res = x1@x2\n",
    "except Exception as e:\n",
    "    print('Throws an error')\n",
    "    print(e)\n",
    "\n",
    "print('x2 @ x2')\n",
    "print('--------------------------')\n",
    "res = x2@x2\n",
    "print(res)\n",
    "print('--------------------------')\n",
    "\n",
    "print('x2 @ x1')\n",
    "res = x2@x1\n",
    "print('--------------------------')\n",
    "print(res)\n",
    "print('--------------------------')\n",
    "\n",
    "print('x2.T @ x1')\n",
    "# technically x2.T does not do anything to an array\n",
    "res = x2.T@x1\n",
    "print('--------------------------')\n",
    "print(res)\n",
    "print('--------------------------')\n",
    "\n",
    "print('x1 @ x1.T')\n",
    "res = x1@x1.T\n",
    "print('--------------------------')\n",
    "print(res)\n",
    "print('--------------------------')\n",
    "\n",
    "print('x1.T @ x2')\n",
    "res = x1.T@x2\n",
    "print('--------------------------')\n",
    "print(res)\n",
    "print('--------------------------')\n",
    "\n",
    "print('x1 * x2')\n",
    "res = x1*x2\n",
    "print('--------------------------')\n",
    "print(res)\n",
    "print('--------------------------')\n",
    "\n",
    "print('x1 * x1')\n",
    "res = x1*x1\n",
    "print('--------------------------')\n",
    "print(res)\n",
    "print('--------------------------')\n",
    "\n",
    "print('x2 * x2')\n",
    "res = x2*x2\n",
    "print('--------------------------')\n",
    "print(res)\n",
    "print('--------------------------')\n",
    "\n",
    "print('dot(x1, x2)')\n",
    "res = np.dot(x2,x2)\n",
    "print('--------------------------')\n",
    "print(res)\n",
    "print('--------------------------')\n",
    "\n",
    "\n",
    "print('outer(x1, x2)')\n",
    "res = np.outer(x2,x2)\n",
    "print('--------------------------')\n",
    "print(res)\n",
    "print('--------------------------')\n",
    "\n",
    "\n",
    "print('dot(A, x2), A@x2, x2@A')\n",
    "A = np.array([\n",
    "    [0.1,0.2,0.3],\n",
    "    [0.4,0.5,0.6],\n",
    "    [0.7,0.8,0.9]\n",
    "])\n",
    "res1 = np.dot(A,x2)\n",
    "res2 = A@x2\n",
    "res3 = x2@A\n",
    "print('--------------------------')\n",
    "print(res1,res2,res3)\n",
    "print('--------------------------')"
   ]
  },
  {
   "cell_type": "markdown",
   "metadata": {},
   "source": [
    "Note that in the last case, the outer product is not well defined using the @ operators with an array. An explicit outer function needs to be called. This is preferred in coding as 1) avoids ambiguous assumptions on shape/size of vectors/arrays, and 2) makes code interpretable and easy to debug. For example, imagine taking the mean of an inner product for an objective function but accidentally computing an outer product. Both operations will work, but one will be computing the correct objective function while the other will contain additional terms that skews the problem significantly. "
   ]
  },
  {
   "cell_type": "markdown",
   "metadata": {},
   "source": [
    "# Lists can be just a list of things without any special structure\n",
    "Often you may just want to think of a list of things in the most abstract way possible. This is useful for example to list candidate functions for benchmarking a robot, or to try controllers that take similar inputs but may have different outputs. See below for examples: "
   ]
  },
  {
   "cell_type": "code",
   "execution_count": 33,
   "metadata": {},
   "outputs": [
    {
     "name": "stdout",
     "output_type": "stream",
     "text": [
      "func 1 0.3666666666666667\n",
      "func 2 1.1\n",
      "func 3 -3.2188758248682006\n",
      "func 4 0.15000000000000002\n"
     ]
    }
   ],
   "source": [
    "def f1(x):\n",
    "    return np.mean(x)\n",
    "def f2(x):\n",
    "    return np.sum(np.abs(x))\n",
    "def f3(x):\n",
    "    return np.sum(np.log(x))\n",
    "def f4(x):\n",
    "    return np.mean(np.square(x))\n",
    "\n",
    "list_of_funcs = [f1,f2,f3,f4]\n",
    "\n",
    "# i can now loop through the functions and test various outputs! \n",
    "test_x = np.array([0.2,0.4,0.5])\n",
    "i = 1\n",
    "for test_f in list_of_funcs:\n",
    "    print('func', i, test_f(test_x))\n",
    "    i+=1"
   ]
  },
  {
   "cell_type": "markdown",
   "metadata": {},
   "source": [
    "This goes beyond just functions but really any object in python can be put into lists and looped."
   ]
  },
  {
   "cell_type": "code",
   "execution_count": 36,
   "metadata": {},
   "outputs": [
    {
     "name": "stdout",
     "output_type": "stream",
     "text": [
      "list of arrays, NOT a matrix\n",
      "[array([-0.45263161,  0.63983549,  0.89664924]), array([-0.98327863,  1.30556649,  0.00489884]), array([ 0.27178824,  0.86979423, -0.39677396]), array([ 0.09831206,  2.74529774, -1.4239546 ]), array([ 0.72851759,  0.42420449, -1.34852091]), array([-0.45400676,  1.42982614, -1.29665567]), array([0.42383257, 1.63264253, 0.23159706]), array([-0.94356872, -0.46401038,  0.18486315]), array([-1.30626874,  0.69039059, -0.80883187]), array([-0.84156873, -0.52773167, -1.19539319])]\n"
     ]
    }
   ],
   "source": [
    "list_of_random_ararys = []\n",
    "for i in range(10):\n",
    "    x = np.random.normal(0., size=(3,))\n",
    "    list_of_random_ararys.append(x)\n",
    "print('list of arrays, NOT a matrix')\n",
    "print(list_of_random_ararys)"
   ]
  },
  {
   "cell_type": "markdown",
   "metadata": {},
   "source": [
    "Note that one can also take as arguments lists and convert them into other data types with properties, e.g., a matrix!"
   ]
  },
  {
   "cell_type": "code",
   "execution_count": 39,
   "metadata": {},
   "outputs": [
    {
     "name": "stdout",
     "output_type": "stream",
     "text": [
      "(10, 3) \n",
      " [[-0.45263161  0.63983549  0.89664924]\n",
      " [-0.98327863  1.30556649  0.00489884]\n",
      " [ 0.27178824  0.86979423 -0.39677396]\n",
      " [ 0.09831206  2.74529774 -1.4239546 ]\n",
      " [ 0.72851759  0.42420449 -1.34852091]\n",
      " [-0.45400676  1.42982614 -1.29665567]\n",
      " [ 0.42383257  1.63264253  0.23159706]\n",
      " [-0.94356872 -0.46401038  0.18486315]\n",
      " [-1.30626874  0.69039059 -0.80883187]\n",
      " [-0.84156873 -0.52773167 -1.19539319]]\n"
     ]
    }
   ],
   "source": [
    "B = np.stack(list_of_random_ararys)\n",
    "print(B.shape, '\\n',B)"
   ]
  },
  {
   "cell_type": "markdown",
   "metadata": {},
   "source": [
    "## Writing functions \n",
    "When writing functions, the key thing to ask yourself is what is the purpose of the function. If it has more than one purpose, you may want to split up the function. If the function can be done by a single line of code, then the function is redundant. Keep functions as self-contained as possible and be wary of global variables. If a function changes a variable in a global scope, then this has to be made explicit (try not to this by setting all global variables with a capital letter or a G in front). \n",
    "\n",
    "Mutable functions are also to be avoided. This is when a function takes an input argument and modifies the value of the input argument that should be held constant. This can happen by accident in python so be aware that this and double check your functions inputs/output. "
   ]
  },
  {
   "cell_type": "markdown",
   "metadata": {},
   "source": [
    "Examples TBD"
   ]
  }
 ],
 "metadata": {
  "kernelspec": {
   "display_name": "robofun_env",
   "language": "python",
   "name": "python3"
  },
  "language_info": {
   "codemirror_mode": {
    "name": "ipython",
    "version": 3
   },
   "file_extension": ".py",
   "mimetype": "text/x-python",
   "name": "python",
   "nbconvert_exporter": "python",
   "pygments_lexer": "ipython3",
   "version": "3.11.4"
  },
  "orig_nbformat": 4
 },
 "nbformat": 4,
 "nbformat_minor": 2
}
